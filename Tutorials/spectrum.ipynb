{
 "cells": [
  {
   "cell_type": "code",
   "execution_count": null,
   "metadata": {},
   "outputs": [],
   "source": [
    "from OceanWaves.spectrum import PiersonMoskowitz, JONSWAP\n",
    "from OceanWaves.utils import U_10_to_U_195\n",
    "import numpy as np \n",
    "import matplotlib.pyplot as plt "
   ]
  },
  {
   "cell_type": "markdown",
   "metadata": {},
   "source": [
    "Common parameters for spectrums"
   ]
  },
  {
   "cell_type": "code",
   "execution_count": null,
   "metadata": {},
   "outputs": [],
   "source": [
    "U = [5, 7, 9, 13, 16, 20]  # vitesses du vent en m/s 10 m au dessus du niveau de la mer\n",
    "omegas = np.linspace(0.01, 4, 1000)  # fréquences angulaires"
   ]
  },
  {
   "cell_type": "markdown",
   "metadata": {},
   "source": [
    "## Pierson Moskowitz spectrum"
   ]
  },
  {
   "cell_type": "markdown",
   "metadata": {},
   "source": [
    "$$ S(\\omega) = \\frac{\\alpha g^2}{\\omega^5}\\exp[-\\beta(\\frac{g}{U\\omega})^4] $$\n",
    "- Where $\\alpha = 8.10\\times 10^{-3}$, $\\beta=0.74$, $U$ is the wind speed at $19.5$ m "
   ]
  },
  {
   "cell_type": "code",
   "execution_count": null,
   "metadata": {},
   "outputs": [],
   "source": [
    "# Paramètres constants\n",
    "g = 9.81  # gravité\n",
    "alpha = 8.1e-3\n",
    "beta = 0.74\n",
    "\n",
    "# Création de la figure et des sous-graphiques\n",
    "fig, axes = plt.subplots(3, 2, figsize=(17, 12))\n",
    "fig.suptitle(r\"Pierson-Moskowitz Wave Spectrum with different wind speed $U$\", fontsize=16)\n",
    "\n",
    "# Aplatir le tableau d'axes pour faciliter l'itération\n",
    "axes_flat = axes.flatten()\n",
    "\n",
    "# Tracer pour chaque vitesse de vent\n",
    "for i, (ax, U_10) in enumerate(zip(axes_flat, U)):\n",
    "    # Conversion de la vitesse du vent\n",
    "    U_195 = U_10_to_U_195(U_10)\n",
    "    \n",
    "    # Calcul du spectre\n",
    "    S_j = [PiersonMoskowitz(omega, U_195) for omega in omegas]\n",
    "    \n",
    "    # Tracer le spectre\n",
    "    ax.plot(omegas, S_j, linewidth=2, label=f\"Wind speed {U_10} m/s\")\n",
    "    \n",
    "    # Personnalisation du graphique\n",
    "    ax.set_xticks(np.arange(0, 4.1, 0.1))\n",
    "    ax.tick_params(axis='x', rotation=45)\n",
    "    ax.grid(True, linestyle='--', alpha=0.7)\n",
    "    ax.legend(loc='upper right')\n",
    "    \n",
    "    # Ajouter les étiquettes des axes\n",
    "    ax.set_xlabel(r\"$\\omega$ (rad/s)\")\n",
    "    ax.set_ylabel(r\"Wave Spectrum Density ($m^2/Hz$)\")\n",
    "    \n",
    "    # Ajuster les limites des axes pour une meilleure visualisation\n",
    "    ax.set_xlim(0, 4)\n",
    "    ax.set_ylim(0, max(S_j)*1.1)\n",
    "\n",
    "# Ajuster la disposition\n",
    "plt.tight_layout()\n",
    "\n",
    "# Afficher la figure\n",
    "plt.show()"
   ]
  },
  {
   "cell_type": "markdown",
   "metadata": {},
   "source": [
    "## JONSWAP spectrum"
   ]
  },
  {
   "cell_type": "markdown",
   "metadata": {},
   "source": [
    "$$ S(\\omega) = \\frac{\\alpha g^2}{\\omega^5}\\exp[-\\frac{5}{4}(\\frac{\\omega_0}{\\omega})^4].\\gamma^r $$\n",
    "-  with : \n",
    "$$ r = \\exp[-\\frac{(\\omega-\\omega_0)^2}{2\\sigma^2\\omega_0^2}] $$\n",
    "- $\\sigma = 0.07$ if $\\omega \\leq \\omega_0$, $0.09$ else. \n",
    "- $\\alpha = 0.075X^{-0.22}$ \n",
    "- $\\gamma = 3.3$\n",
    "- $\\omega_0 = 22(g/U)X^{-0.33}$\n",
    "- $X = gF/U^2$ with $F$ is the fetch length, and $U$ is the wind speed at 10 m above the sea surface"
   ]
  },
  {
   "cell_type": "code",
   "execution_count": null,
   "metadata": {},
   "outputs": [],
   "source": [
    "F = 30e3  # fetch en mètres\n",
    "\n",
    "# Création de la figure et des sous-graphiques\n",
    "fig, axes = plt.subplots(3, 2, figsize=(17, 12))\n",
    "fig.suptitle(r\"JONSWAP Wave Spectrum with different wind speed $U$ in a fetch of 30 km\", fontsize=16)\n",
    "\n",
    "# Aplatir le tableau d'axes pour faciliter l'itération\n",
    "axes_flat = axes.flatten()\n",
    "\n",
    "# Tracer pour chaque vitesse de vent\n",
    "for i, (ax, U_10) in enumerate(zip(axes_flat, U)):\n",
    "    \n",
    "    # Calcul du spectre\n",
    "    S_j = [JONSWAP(omega, U_10, F) for omega in omegas]\n",
    "    \n",
    "    # Tracer le spectre\n",
    "    ax.plot(omegas, S_j, linewidth=2, label=f\"Wind speed {U_10} m/s\")\n",
    "    \n",
    "    # Personnalisation du graphique\n",
    "    ax.set_xticks(np.arange(0, 4.1, 0.1), fontsize=8)\n",
    "    ax.tick_params(axis='x', rotation=45)\n",
    "    ax.grid(True, linestyle='--', alpha=0.7)\n",
    "    ax.legend(loc='upper right')\n",
    "    \n",
    "    # Ajouter les étiquettes des axes\n",
    "    ax.set_xlabel(r\"$\\omega$ (rad/s)\")\n",
    "    ax.set_ylabel(r\"Wave Spectrum Density ($m^2/Hz$)\")\n",
    "    \n",
    "    # Ajuster les limites des axes pour une meilleure visualisation\n",
    "    ax.set_xlim(0, 4)\n",
    "    ax.set_ylim(0, max(S_j)*1.1)\n",
    "\n",
    "# Ajuster la disposition\n",
    "plt.tight_layout()\n",
    "\n",
    "# Afficher la figure\n",
    "plt.show()"
   ]
  }
 ],
 "metadata": {
  "kernelspec": {
   "display_name": "base",
   "language": "python",
   "name": "python3"
  },
  "language_info": {
   "name": "python",
   "version": "3.9.18"
  }
 },
 "nbformat": 4,
 "nbformat_minor": 2
}
