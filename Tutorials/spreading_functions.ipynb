{
 "cells": [
  {
   "cell_type": "code",
   "execution_count": null,
   "metadata": {},
   "outputs": [],
   "source": [
    "from OceanWaves.spreading import ittc, issc, swop\n",
    "import numpy as np\n",
    "import matplotlib.pyplot as plt"
   ]
  },
  {
   "cell_type": "markdown",
   "metadata": {},
   "source": [
    "#### 1. Directional spreading function proposed by ITTC (International Towing Tank Conference) : \n",
    "$$ D_{ITTC}(\\theta) = \\frac{2}{\\pi}\\cos^2\\theta ~~ |\\theta|\\leq \\frac{\\pi}{2} $$\n",
    "#### 2. Directional spreading function proposed by ISSC (International Ship and Offshore Structures Congress) : \n",
    "$$ D_{ISSC}(\\theta) = \\frac{8}{3\\pi}\\cos^4\\theta ~~ |\\theta| \\leq \\frac{\\pi}{2} $$\n",
    "#### 3. Directional spreading function proposed by SWOP (Stereo Wave Observation Project) : \n",
    "$$ D_{SWOP}(\\omega, \\theta) = \\frac{1}{\\pi}[1 + p\\cos(2\\theta)+q\\cos(4\\theta)] $$ \n",
    "with \n",
    "$$ p = 0.5 + 0.82\\exp[-\\frac{1}{2}(\\frac{\\omega U}{g})^4] $$\n",
    "and \n",
    "$$ q = 0.32\\exp[-\\frac{1}{2}(\\frac{\\omega U}{g})^4] $$"
   ]
  },
  {
   "cell_type": "code",
   "execution_count": null,
   "metadata": {},
   "outputs": [],
   "source": [
    "thetas = np.linspace(-np.pi/2, np.pi/2, 1000)\n",
    "omega = 1 \n",
    "U = [5, 7, 9, 13, 16, 20] # wind speeds\n",
    "\n",
    "ittc_values = ittc(thetas)\n",
    "issc_values = issc(thetas)\n",
    "\n",
    "plt.figure(figsize=(6, 6))\n",
    "plt.polar(thetas, ittc_values, label=\"ITTC\")\n",
    "plt.plot(thetas, issc_values, label='ISSC')\n",
    "plt.legend()\n",
    "plt.tight_layout()\n",
    "plt.show()"
   ]
  },
  {
   "cell_type": "code",
   "execution_count": null,
   "metadata": {},
   "outputs": [],
   "source": [
    "plt.figure(figsize=(6, 6))\n",
    "for i, Ui in enumerate(U) : \n",
    "    swop_values = swop(thetas, omega=1, U=Ui)\n",
    "    plt.polar(thetas, swop_values, label = f\"SWOP with U = {Ui} m/s\")\n",
    "plt.legend()\n",
    "plt.tight_layout()\n",
    "plt.savefig(\"./Other_figures/swop_spreading_functions.png\")\n",
    "plt.show()"
   ]
  }
 ],
 "metadata": {
  "kernelspec": {
   "display_name": "base",
   "language": "python",
   "name": "python3"
  },
  "language_info": {
   "name": "python",
   "version": "3.9.18"
  }
 },
 "nbformat": 4,
 "nbformat_minor": 2
}
